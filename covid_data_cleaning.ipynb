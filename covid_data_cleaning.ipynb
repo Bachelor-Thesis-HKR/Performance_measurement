{
 "cells": [
  {
   "cell_type": "code",
   "execution_count": 139,
   "id": "c510e1e1",
   "metadata": {},
   "outputs": [],
   "source": [
    "import pandas as pd\n",
    "import sys\n",
    "import os\n",
    "i = 25"
   ]
  },
  {
   "cell_type": "code",
   "execution_count": 170,
   "id": "32eb3adb",
   "metadata": {},
   "outputs": [],
   "source": [
    "data = \"../../cord_19_embeddings_2022-06-02.csv\"\n",
    "\n",
    "df_1 = pd.read_csv(data, nrows=958904)"
   ]
  },
  {
   "cell_type": "code",
   "execution_count": 162,
   "id": "24e20e8f",
   "metadata": {},
   "outputs": [],
   "source": [
    "#df = pd.read_csv(data)\n",
    "#df"
   ]
  },
  {
   "cell_type": "code",
   "execution_count": 163,
   "id": "1951b38e",
   "metadata": {},
   "outputs": [],
   "source": [
    "#df_1[\"5.164162635803223\"].shape\n",
    "\n"
   ]
  },
  {
   "cell_type": "code",
   "execution_count": 146,
   "id": "5e123eaa",
   "metadata": {},
   "outputs": [
    {
     "name": "stdout",
     "output_type": "stream",
     "text": [
      "2433.43\n"
     ]
    }
   ],
   "source": [
    "def memory_usage(df):\n",
    "    return(round(df.memory_usage(deep=True).sum() / 1024 ** 2, 2))\n",
    "print(memory_usage(df_1))"
   ]
  },
  {
   "cell_type": "code",
   "execution_count": 147,
   "id": "51bcdccc",
   "metadata": {},
   "outputs": [],
   "source": [
    "# Step-. Split and Save the dataset\n",
    "def save(this_df, n, output_dir=\"output\"):\n",
    "    if not os.path.exists(output_dir):\n",
    "        os.makedirs(output_dir)\n",
    "    print('Size -->', memory_usage(this_df)) ## here is the print function to indicate the size\n",
    "    this_df.to_csv(os.path.join(output_dir, f\"data{n}.csv\"), index=False)\n"
   ]
  },
  {
   "cell_type": "code",
   "execution_count": 171,
   "id": "fbd757ed",
   "metadata": {},
   "outputs": [
    {
     "name": "stdout",
     "output_type": "stream",
     "text": [
      "Size --> 5678.02\n"
     ]
    }
   ],
   "source": [
    "i = i + 1\n",
    "save(df_1, i)"
   ]
  },
  {
   "cell_type": "code",
   "execution_count": 174,
   "id": "46196da2",
   "metadata": {},
   "outputs": [],
   "source": [
    "# List of rows to load\n",
    "rows_to_load = [6849, 13698, 20547, 27397, 34246, 41095, 47945, 54794, 61643, 205479, 342465, 410958, 479452, 547945]\n",
    "\n",
    "def do_the_save ():\n",
    "    for n in rows_to_load:\n",
    "        df = pd.read_csv(data, nrows=n)\n",
    "        i = i + 1\n",
    "        save(df, i)"
   ]
  },
  {
   "cell_type": "code",
   "execution_count": null,
   "id": "3a34747a",
   "metadata": {},
   "outputs": [],
   "source": []
  },
  {
   "cell_type": "markdown",
   "id": "2c5b8f5b",
   "metadata": {},
   "source": [
    "rows to sizes proportion\n",
    "\n",
    "these are the results- it is a covid dataset from kaggle\n",
    "20      -  306 KB\n",
    "300,000 - 4.38 GB\n",
    "290,000 - 4.23 GB\n",
    "90,000  - 1.31 GB\n",
    "20, 246 - 295,5 MB\n",
    "34,246  - 499,8 MB\n",
    "68,493  - 1 GB\n",
    "136,986 - 2 GB\n",
    "273,972 - 4 GB\n",
    "6,849 - 99,9 MB\n",
    "\n",
    "0.1GB, 0.2GB, 0.3GB, 0.4GB, 0.5GB, \n",
    "0.6GB, 0.7GB, 0.8GB, 0.9GB, 1GB\n",
    "1GB, 2GB, 3GB, 4GB, 5GB, \n",
    "6GB, 7GB, 8GB, 9GB, 10GB\n",
    "11GB, 12GB, 13GB, 14GB, 15GB,"
   ]
  },
  {
   "cell_type": "code",
   "execution_count": null,
   "id": "5333538d",
   "metadata": {},
   "outputs": [],
   "source": []
  },
  {
   "cell_type": "code",
   "execution_count": null,
   "id": "aed6abaf",
   "metadata": {},
   "outputs": [],
   "source": []
  },
  {
   "cell_type": "code",
   "execution_count": null,
   "id": "65237305",
   "metadata": {},
   "outputs": [],
   "source": []
  },
  {
   "cell_type": "code",
   "execution_count": null,
   "id": "a99968b8",
   "metadata": {},
   "outputs": [],
   "source": []
  },
  {
   "cell_type": "code",
   "execution_count": null,
   "id": "ca815462",
   "metadata": {},
   "outputs": [],
   "source": []
  },
  {
   "cell_type": "code",
   "execution_count": null,
   "id": "b4efb833",
   "metadata": {},
   "outputs": [],
   "source": []
  },
  {
   "cell_type": "code",
   "execution_count": null,
   "id": "a1c7bb48",
   "metadata": {},
   "outputs": [],
   "source": []
  },
  {
   "cell_type": "code",
   "execution_count": null,
   "id": "d87a961a",
   "metadata": {},
   "outputs": [],
   "source": [
    "import pyspark\n",
    "import timeit\n",
    "import pandas as pd\n",
    "from pyspark.sql import SparkSession\n",
    "from pyspark.sql.functions import col, sum, mean, count, udf\n",
    "import timeit\n",
    "from pyspark.sql.types import StringType\n",
    "from pyspark.sql import functions as F\n",
    "\n"
   ]
  },
  {
   "cell_type": "code",
   "execution_count": null,
   "id": "4461b8cf",
   "metadata": {},
   "outputs": [],
   "source": [
    "\n"
   ]
  },
  {
   "cell_type": "code",
   "execution_count": 8,
   "id": "abc18a6b",
   "metadata": {},
   "outputs": [],
   "source": []
  },
  {
   "cell_type": "code",
   "execution_count": null,
   "id": "fabc863b",
   "metadata": {},
   "outputs": [],
   "source": []
  },
  {
   "cell_type": "code",
   "execution_count": null,
   "id": "a59bc2fb",
   "metadata": {},
   "outputs": [],
   "source": []
  },
  {
   "cell_type": "code",
   "execution_count": null,
   "id": "8db5b7b5",
   "metadata": {},
   "outputs": [],
   "source": []
  }
 ],
 "metadata": {
  "kernelspec": {
   "display_name": "Python 3 (ipykernel)",
   "language": "python",
   "name": "python3"
  },
  "language_info": {
   "codemirror_mode": {
    "name": "ipython",
    "version": 3
   },
   "file_extension": ".py",
   "mimetype": "text/x-python",
   "name": "python",
   "nbconvert_exporter": "python",
   "pygments_lexer": "ipython3",
   "version": "3.10.9"
  }
 },
 "nbformat": 4,
 "nbformat_minor": 5
}
