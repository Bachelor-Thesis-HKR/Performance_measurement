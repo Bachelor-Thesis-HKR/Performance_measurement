{
 "cells": [
  {
   "cell_type": "code",
   "execution_count": 1,
   "id": "dabac6fa",
   "metadata": {},
   "outputs": [],
   "source": [
    "import pandas as pd\n",
    "import timeit\n",
    "import re"
   ]
  },
  {
   "cell_type": "code",
   "execution_count": 3,
   "id": "fe293163",
   "metadata": {},
   "outputs": [],
   "source": [
    "emails = \"emails.csv\"\n",
    "df = pd.read_csv(emails)"
   ]
  },
  {
   "cell_type": "code",
   "execution_count": 5,
   "id": "bb655811",
   "metadata": {},
   "outputs": [
    {
     "data": {
      "text/html": [
       "<div>\n",
       "<style scoped>\n",
       "    .dataframe tbody tr th:only-of-type {\n",
       "        vertical-align: middle;\n",
       "    }\n",
       "\n",
       "    .dataframe tbody tr th {\n",
       "        vertical-align: top;\n",
       "    }\n",
       "\n",
       "    .dataframe thead th {\n",
       "        text-align: right;\n",
       "    }\n",
       "</style>\n",
       "<table border=\"1\" class=\"dataframe\">\n",
       "  <thead>\n",
       "    <tr style=\"text-align: right;\">\n",
       "      <th></th>\n",
       "      <th>file</th>\n",
       "      <th>message</th>\n",
       "    </tr>\n",
       "  </thead>\n",
       "  <tbody>\n",
       "    <tr>\n",
       "      <th>0</th>\n",
       "      <td>allen-p/_sent_mail/1.</td>\n",
       "      <td>Message-ID: &lt;18782981.1075855378110.JavaMail.e...</td>\n",
       "    </tr>\n",
       "    <tr>\n",
       "      <th>1</th>\n",
       "      <td>allen-p/_sent_mail/10.</td>\n",
       "      <td>Message-ID: &lt;15464986.1075855378456.JavaMail.e...</td>\n",
       "    </tr>\n",
       "    <tr>\n",
       "      <th>2</th>\n",
       "      <td>allen-p/_sent_mail/100.</td>\n",
       "      <td>Message-ID: &lt;24216240.1075855687451.JavaMail.e...</td>\n",
       "    </tr>\n",
       "    <tr>\n",
       "      <th>3</th>\n",
       "      <td>allen-p/_sent_mail/1000.</td>\n",
       "      <td>Message-ID: &lt;13505866.1075863688222.JavaMail.e...</td>\n",
       "    </tr>\n",
       "    <tr>\n",
       "      <th>4</th>\n",
       "      <td>allen-p/_sent_mail/1001.</td>\n",
       "      <td>Message-ID: &lt;30922949.1075863688243.JavaMail.e...</td>\n",
       "    </tr>\n",
       "  </tbody>\n",
       "</table>\n",
       "</div>"
      ],
      "text/plain": [
       "                       file                                            message\n",
       "0     allen-p/_sent_mail/1.  Message-ID: <18782981.1075855378110.JavaMail.e...\n",
       "1    allen-p/_sent_mail/10.  Message-ID: <15464986.1075855378456.JavaMail.e...\n",
       "2   allen-p/_sent_mail/100.  Message-ID: <24216240.1075855687451.JavaMail.e...\n",
       "3  allen-p/_sent_mail/1000.  Message-ID: <13505866.1075863688222.JavaMail.e...\n",
       "4  allen-p/_sent_mail/1001.  Message-ID: <30922949.1075863688243.JavaMail.e..."
      ]
     },
     "execution_count": 5,
     "metadata": {},
     "output_type": "execute_result"
    }
   ],
   "source": [
    "df.head()"
   ]
  },
  {
   "cell_type": "code",
   "execution_count": 7,
   "id": "960f8261",
   "metadata": {},
   "outputs": [],
   "source": [
    "import pandas as pd\n",
    "\n",
    "# Create a sample DataFrame\n",
    "data = {'Name': ['John', 'Jane', 'Sam', 'Sara'],\n",
    "        'Age': [28, 24, 22, 25],\n",
    "        'City': ['New York', 'Los Angeles', 'San Francisco', 'Seattle']}\n",
    "\n",
    "df = pd.DataFrame(data)\n",
    "\n",
    "# Save the DataFrame as a CSV file\n",
    "df.to_csv('data.csv', index=False)\n",
    "\n",
    "# Save the DataFrame as an Excel file\n",
    "df.to_excel('data.xlsx', index=False, engine='openpyxl')\n"
   ]
  },
  {
   "cell_type": "code",
   "execution_count": 12,
   "id": "05aa8af5",
   "metadata": {},
   "outputs": [],
   "source": [
    "df.head()\n",
    "d = pd.read_csv('data.csv')"
   ]
  },
  {
   "cell_type": "code",
   "execution_count": null,
   "id": "1a5d5d40",
   "metadata": {},
   "outputs": [],
   "source": []
  },
  {
   "cell_type": "markdown",
   "id": "9cb7f4eb",
   "metadata": {},
   "source": [
    "# Working with cleaning the dataset"
   ]
  },
  {
   "cell_type": "code",
   "execution_count": 25,
   "id": "23b76432",
   "metadata": {},
   "outputs": [],
   "source": [
    "import tarfile \n",
    "import re\n",
    "from datetime import datetime\n",
    "from collections import namedtuple, Counter\n",
    "import pandas as pd \n",
    "import altair as alt"
   ]
  },
  {
   "cell_type": "code",
   "execution_count": 26,
   "id": "8d505018",
   "metadata": {},
   "outputs": [],
   "source": [
    "tar = tarfile.open(\"emails.tar.gz\", \"r\")"
   ]
  },
  {
   "cell_type": "code",
   "execution_count": 27,
   "id": "b3dbe256",
   "metadata": {},
   "outputs": [],
   "source": [
    "items = tar.getmembers()"
   ]
  },
  {
   "cell_type": "code",
   "execution_count": 37,
   "id": "f484e608",
   "metadata": {},
   "outputs": [],
   "source": [
    "Email = namedtuple('Email', 'Date, From, To, Subject, Cc, Bcc, Message')"
   ]
  },
  {
   "cell_type": "code",
   "execution_count": 44,
   "id": "d70134e2",
   "metadata": {},
   "outputs": [],
   "source": [
    "# figure out structure of each file\n",
    "def get_msg(item_number):\n",
    "    f = tar.extractfile(items [item_number])\n",
    "    try:\n",
    "        date = from_ = to = subject = cc = bcc = messages= \"\"\n",
    "        in_to = False\n",
    "        in_message = False\n",
    "        to = []\n",
    "        message = []\n",
    "        item = f. read().decode()\n",
    "        item = item.replace('\\r', '').replace('\\t', '')\n",
    "        lines = item.split( '\\n')\n",
    "        \n",
    "        # print(Len (Lines))\n",
    "        for num, line in enumerate(lines):\n",
    "            \n",
    "            if line.startswith('Date:') and not date:\n",
    "                date = datetime.strptime(' '.join(line.split('Date: ')[1].split()[:-2]), '%a, %d %b %Y %H:%M:%S')\n",
    "            \n",
    "            elif line.startswith('From:') and not from_:\n",
    "                from_ = line.replace('From:', '').strip()\n",
    "                                     \n",
    "            elif line.startswith('To:') and not to:\n",
    "                in_to = True\n",
    "                to = line.replace('To:','').replace(',',''). replace(';', '').split()\n",
    "                                                \n",
    "            elif line.startswith('Subject:') and not subject:\n",
    "                in_to = False\n",
    "                subject = line.replace('Subject:', '').strip()\n",
    "                                       \n",
    "            elif line.startswith('Cc:') and not cc:\n",
    "                cc = line.replace( 'Cc:','').replace(',', '').replace(';','').split()\n",
    "                                       \n",
    "            elif line.startswith('Bcc:') and not bcc:\n",
    "                bcc = line.replace( 'Bcc:','').replace(',', '').replace(';', \"\").split()\n",
    "                                       \n",
    "            elif in_to:\n",
    "                to.extend(line.replace(',','').split())                \n",
    "            elif line.startswith('Subject:') and not subject:\n",
    "                in_to = False         \n",
    "            elif line.startswith('X-FileName'):\n",
    "                in_message = True\n",
    "            elif in_message:\n",
    "                message.append(line)\n",
    "                                       \n",
    "                                       \n",
    "        to  = ';'.join(to).strip()\n",
    "        cc  = ';'.join(cc).strip()\n",
    "        bcc = ';'.join(bcc).strip()\n",
    "        message = ';'.join(message).strip ()\n",
    "        email = Email (date, from_ , to, subject, cc, bcc, message)\n",
    "        return email\n",
    "    except Exception as e:\n",
    "        return e\n",
    "            \n",
    "\n",
    "            "
   ]
  },
  {
   "cell_type": "code",
   "execution_count": 53,
   "id": "944a258e",
   "metadata": {},
   "outputs": [
    {
     "data": {
      "text/plain": [
       "datetime.datetime(2001, 10, 19, 6, 26, 54)"
      ]
     },
     "execution_count": 53,
     "metadata": {},
     "output_type": "execute_result"
    }
   ],
   "source": [
    "msg = get_msg(3002)\n",
    "msg.Date"
   ]
  }
 ],
 "metadata": {
  "kernelspec": {
   "display_name": "Python 3 (ipykernel)",
   "language": "python",
   "name": "python3"
  },
  "language_info": {
   "codemirror_mode": {
    "name": "ipython",
    "version": 3
   },
   "file_extension": ".py",
   "mimetype": "text/x-python",
   "name": "python",
   "nbconvert_exporter": "python",
   "pygments_lexer": "ipython3",
   "version": "3.10.9"
  }
 },
 "nbformat": 4,
 "nbformat_minor": 5
}
