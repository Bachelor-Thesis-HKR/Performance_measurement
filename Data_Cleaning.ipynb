{
 "cells": [
  {
   "cell_type": "markdown",
   "id": "423f13b7",
   "metadata": {},
   "source": [
    "# Here in this file, We will try to prepare the dataset"
   ]
  },
  {
   "cell_type": "markdown",
   "id": "df6ce908",
   "metadata": {},
   "source": [
    "<h3> Lets first observe the default dataset </h3>"
   ]
  },
  {
   "cell_type": "code",
   "execution_count": 162,
   "id": "76bbb3f4",
   "metadata": {},
   "outputs": [],
   "source": [
    "import tarfile \n",
    "import re\n",
    "from datetime import datetime\n",
    "from collections import namedtuple, Counter\n",
    "import pandas as pd \n",
    "import altair as alt\n",
    "import os"
   ]
  },
  {
   "cell_type": "code",
   "execution_count": 61,
   "id": "708712c6",
   "metadata": {},
   "outputs": [],
   "source": [
    "emails = \"emails.csv\"\n",
    "df = pd.read_csv(emails)"
   ]
  },
  {
   "cell_type": "code",
   "execution_count": 62,
   "id": "a71f31af",
   "metadata": {},
   "outputs": [
    {
     "data": {
      "text/html": [
       "<div>\n",
       "<style scoped>\n",
       "    .dataframe tbody tr th:only-of-type {\n",
       "        vertical-align: middle;\n",
       "    }\n",
       "\n",
       "    .dataframe tbody tr th {\n",
       "        vertical-align: top;\n",
       "    }\n",
       "\n",
       "    .dataframe thead th {\n",
       "        text-align: right;\n",
       "    }\n",
       "</style>\n",
       "<table border=\"1\" class=\"dataframe\">\n",
       "  <thead>\n",
       "    <tr style=\"text-align: right;\">\n",
       "      <th></th>\n",
       "      <th>file</th>\n",
       "      <th>message</th>\n",
       "    </tr>\n",
       "  </thead>\n",
       "  <tbody>\n",
       "    <tr>\n",
       "      <th>0</th>\n",
       "      <td>allen-p/_sent_mail/1.</td>\n",
       "      <td>Message-ID: &lt;18782981.1075855378110.JavaMail.e...</td>\n",
       "    </tr>\n",
       "    <tr>\n",
       "      <th>1</th>\n",
       "      <td>allen-p/_sent_mail/10.</td>\n",
       "      <td>Message-ID: &lt;15464986.1075855378456.JavaMail.e...</td>\n",
       "    </tr>\n",
       "    <tr>\n",
       "      <th>2</th>\n",
       "      <td>allen-p/_sent_mail/100.</td>\n",
       "      <td>Message-ID: &lt;24216240.1075855687451.JavaMail.e...</td>\n",
       "    </tr>\n",
       "    <tr>\n",
       "      <th>3</th>\n",
       "      <td>allen-p/_sent_mail/1000.</td>\n",
       "      <td>Message-ID: &lt;13505866.1075863688222.JavaMail.e...</td>\n",
       "    </tr>\n",
       "    <tr>\n",
       "      <th>4</th>\n",
       "      <td>allen-p/_sent_mail/1001.</td>\n",
       "      <td>Message-ID: &lt;30922949.1075863688243.JavaMail.e...</td>\n",
       "    </tr>\n",
       "  </tbody>\n",
       "</table>\n",
       "</div>"
      ],
      "text/plain": [
       "                       file                                            message\n",
       "0     allen-p/_sent_mail/1.  Message-ID: <18782981.1075855378110.JavaMail.e...\n",
       "1    allen-p/_sent_mail/10.  Message-ID: <15464986.1075855378456.JavaMail.e...\n",
       "2   allen-p/_sent_mail/100.  Message-ID: <24216240.1075855687451.JavaMail.e...\n",
       "3  allen-p/_sent_mail/1000.  Message-ID: <13505866.1075863688222.JavaMail.e...\n",
       "4  allen-p/_sent_mail/1001.  Message-ID: <30922949.1075863688243.JavaMail.e..."
      ]
     },
     "execution_count": 62,
     "metadata": {},
     "output_type": "execute_result"
    }
   ],
   "source": [
    "df.head()"
   ]
  },
  {
   "cell_type": "code",
   "execution_count": 63,
   "id": "9780d5d6",
   "metadata": {},
   "outputs": [],
   "source": [
    "\n"
   ]
  },
  {
   "cell_type": "markdown",
   "id": "756d2e39",
   "metadata": {},
   "source": [
    "# Working with cleaning the dataset"
   ]
  },
  {
   "cell_type": "code",
   "execution_count": 66,
   "id": "d3d2dfd6",
   "metadata": {},
   "outputs": [],
   "source": [
    "tar = tarfile.open(\"emails.tar.gz\", \"r\")"
   ]
  },
  {
   "cell_type": "code",
   "execution_count": 67,
   "id": "8aac9d4c",
   "metadata": {},
   "outputs": [],
   "source": [
    "items = tar.getmembers()"
   ]
  },
  {
   "cell_type": "code",
   "execution_count": 68,
   "id": "aeed8b25",
   "metadata": {},
   "outputs": [],
   "source": [
    "Email = namedtuple('Email', 'Date, From, To, Subject, Cc, Bcc, Message')"
   ]
  },
  {
   "cell_type": "code",
   "execution_count": 69,
   "id": "906cd88a",
   "metadata": {},
   "outputs": [],
   "source": [
    "# figure out structure of each file\n",
    "def get_msg(item_number):\n",
    "    f = tar.extractfile(items [item_number])\n",
    "    try:\n",
    "        date = from_ = to = subject = cc = bcc = messages= \"\"\n",
    "        in_to = False\n",
    "        in_message = False\n",
    "        to = []\n",
    "        message = []\n",
    "        item = f. read().decode()\n",
    "        item = item.replace('\\r', '').replace('\\t', '')\n",
    "        lines = item.split( '\\n')\n",
    "        \n",
    "        # print(Len (Lines))\n",
    "        for num, line in enumerate(lines):\n",
    "            \n",
    "            if line.startswith('Date:') and not date:\n",
    "                date = datetime.strptime(' '.join(line.split('Date: ')[1].split()[:-2]), '%a, %d %b %Y %H:%M:%S')\n",
    "            \n",
    "            elif line.startswith('From:') and not from_:\n",
    "                from_ = line.replace('From:', '').strip()\n",
    "                                     \n",
    "            elif line.startswith('To:') and not to:\n",
    "                in_to = True\n",
    "                to = line.replace('To:','').replace(',',''). replace(';', '').split()\n",
    "                                                \n",
    "            elif line.startswith('Subject:') and not subject:\n",
    "                in_to = False\n",
    "                subject = line.replace('Subject:', '').strip()\n",
    "                                       \n",
    "            elif line.startswith('Cc:') and not cc:\n",
    "                cc = line.replace( 'Cc:','').replace(',', '').replace(';','').split()\n",
    "                                       \n",
    "            elif line.startswith('Bcc:') and not bcc:\n",
    "                bcc = line.replace( 'Bcc:','').replace(',', '').replace(';', \"\").split()\n",
    "                                       \n",
    "            elif in_to:\n",
    "                to.extend(line.replace(',','').split())                \n",
    "            elif line.startswith('Subject:') and not subject:\n",
    "                in_to = False         \n",
    "            elif line.startswith('X-FileName'):\n",
    "                in_message = True\n",
    "            elif in_message:\n",
    "                message.append(line)\n",
    "                                       \n",
    "                                       \n",
    "        to  = ';'.join(to).strip()\n",
    "        cc  = ';'.join(cc).strip()\n",
    "        bcc = ';'.join(bcc).strip()\n",
    "        message = ';'.join(message).strip ()\n",
    "        email = Email (date, from_ , to, subject, cc, bcc, message)\n",
    "        return email\n",
    "    except Exception as e:\n",
    "        return e\n",
    "            \n",
    "\n",
    "            "
   ]
  },
  {
   "cell_type": "code",
   "execution_count": 122,
   "id": "ad923746",
   "metadata": {},
   "outputs": [
    {
     "name": "stdout",
     "output_type": "stream",
     "text": [
      "2001-10-26 09:43:32\n",
      "ava.garcia@enron.com\n",
      "darrell.schoolcraft@enron.com;lynn.blair@enron.com\n",
      "TW Attendee Spreadsheet\n",
      "\n",
      "\n",
      ";Attached is the spreadsheet of those attending the Transwestern Update Mtg.  names highlighted in BLUE are people who will be attending the TRAINING session.;;Thanks,;Ava;;\n"
     ]
    }
   ],
   "source": [
    "## So we have many attributes now.\n",
    "\n",
    "# 'Email', 'Date, From, To, Subject, Cc, Bcc, Message'\n",
    "\n",
    "\n",
    "def printer(number):\n",
    "    msg = get_msg(number)\n",
    "    print(msg.Date)\n",
    "    print(msg.From)\n",
    "    print(msg.To)\n",
    "    print(msg.Subject)\n",
    "    print(msg.Cc)\n",
    "    print(msg.Bcc)\n",
    "    print(msg.Message)\n",
    "\n",
    "\n",
    "printer(300)"
   ]
  },
  {
   "cell_type": "code",
   "execution_count": 86,
   "id": "49b3344e",
   "metadata": {},
   "outputs": [
    {
     "data": {
      "text/plain": [
       "520901"
      ]
     },
     "execution_count": 86,
     "metadata": {},
     "output_type": "execute_result"
    }
   ],
   "source": [
    "len(items)"
   ]
  },
  {
   "cell_type": "code",
   "execution_count": 89,
   "id": "02b44bfc",
   "metadata": {},
   "outputs": [
    {
     "data": {
      "text/plain": [
       "260450.5"
      ]
     },
     "execution_count": 89,
     "metadata": {},
     "output_type": "execute_result"
    }
   ],
   "source": [
    "520901/2\n"
   ]
  },
  {
   "cell_type": "code",
   "execution_count": 91,
   "id": "ed1ec44e",
   "metadata": {},
   "outputs": [
    {
     "data": {
      "text/plain": [
       "130225.0"
      ]
     },
     "execution_count": 91,
     "metadata": {},
     "output_type": "execute_result"
    }
   ],
   "source": [
    "260450/2"
   ]
  },
  {
   "cell_type": "code",
   "execution_count": 93,
   "id": "b9b6dc41",
   "metadata": {},
   "outputs": [
    {
     "data": {
      "text/plain": [
       "65112.5"
      ]
     },
     "execution_count": 93,
     "metadata": {},
     "output_type": "execute_result"
    }
   ],
   "source": [
    "130225/2"
   ]
  },
  {
   "cell_type": "code",
   "execution_count": 95,
   "id": "bc8981b3",
   "metadata": {},
   "outputs": [
    {
     "data": {
      "text/plain": [
       "32556.0"
      ]
     },
     "execution_count": 95,
     "metadata": {},
     "output_type": "execute_result"
    }
   ],
   "source": [
    "65112/2"
   ]
  },
  {
   "cell_type": "code",
   "execution_count": 97,
   "id": "11ff1823",
   "metadata": {},
   "outputs": [
    {
     "data": {
      "text/plain": [
       "16278.0"
      ]
     },
     "execution_count": 97,
     "metadata": {},
     "output_type": "execute_result"
    }
   ],
   "source": [
    "32556.0/2\n"
   ]
  },
  {
   "cell_type": "code",
   "execution_count": 170,
   "id": "529b316a",
   "metadata": {},
   "outputs": [
    {
     "name": "stdout",
     "output_type": "stream",
     "text": [
      "0 --> 16278\n",
      "0 --> 32556\n",
      "0 --> 65112\n",
      "0 --> 130225\n",
      "0 --> 260450\n",
      "0 --> 520901\n"
     ]
    }
   ],
   "source": [
    "# Step-1. Parse through the dataset\n",
    "def parse_dataset(items):\n",
    "    emails = []\n",
    "    for i in range(len(items)):\n",
    "        email = get_msg(i)\n",
    "        if isinstance(email, Email) and any(val is not None for val in email):\n",
    "            emails.append(email)\n",
    "    return emails\n",
    "\n",
    "# Step-2. Create a dataframe out of the parsed emails.\n",
    "def create_dataframe(emails):\n",
    "    return pd.DataFrame(emails, columns=Email._fields)\n",
    "\n",
    "\n",
    "# Step-. Split and Save the dataset\n",
    "def split_and_save(df, counts, output_dir=\"splitted\"):\n",
    "    if not os.path.exists(output_dir):\n",
    "        os.makedirs(output_dir)\n",
    "        \n",
    "    for i in range(len(counts)):\n",
    "        df_part = df[0:counts[i]]\n",
    "        print(0, '-->', counts[i]) ## here is the print function to indicate the split numbers\n",
    "        df_part.to_csv(os.path.join(output_dir, f\"emails_part_{i + 1}.csv\"), index=False)\n",
    "        \n",
    "\n",
    "## Just call this method inorder for the magic to happen        \n",
    "def clean_now():\n",
    "    emails = parse_dataset(items)\n",
    "    df = create_dataframe(emails)\n",
    "    counts = [16278, 32556, 65112, 130225, 260450, 520901]\n",
    "    split_and_save(df, counts)\n",
    "    \n",
    "\n",
    "clean_now()"
   ]
  },
  {
   "cell_type": "code",
   "execution_count": null,
   "id": "20825200",
   "metadata": {},
   "outputs": [],
   "source": []
  },
  {
   "cell_type": "code",
   "execution_count": 171,
   "id": "db1fd0be",
   "metadata": {},
   "outputs": [],
   "source": [
    "# Lets read the saved files of dataframes now\n",
    "\n",
    "df1 = pd.read_csv('splitted/emails_part_1.csv')\n",
    "df2 = pd.read_csv('splitted/emails_part_2.csv')\n",
    "df3 = pd.read_csv('splitted/emails_part_3.csv')\n",
    "df4 = pd.read_csv('splitted/emails_part_4.csv')\n",
    "df5 = pd.read_csv('splitted/emails_part_5.csv')\n",
    "df6 = pd.read_csv('splitted/emails_part_6.csv')\n"
   ]
  },
  {
   "cell_type": "code",
   "execution_count": 172,
   "id": "94258060",
   "metadata": {},
   "outputs": [
    {
     "data": {
      "text/plain": [
       "(32556, 7)"
      ]
     },
     "execution_count": 172,
     "metadata": {},
     "output_type": "execute_result"
    }
   ],
   "source": [
    "df.head(45)\n",
    "df2.shape\n",
    "#df1.head()"
   ]
  },
  {
   "cell_type": "code",
   "execution_count": null,
   "id": "97b9e920",
   "metadata": {},
   "outputs": [],
   "source": []
  }
 ],
 "metadata": {
  "kernelspec": {
   "display_name": "Python 3 (ipykernel)",
   "language": "python",
   "name": "python3"
  },
  "language_info": {
   "codemirror_mode": {
    "name": "ipython",
    "version": 3
   },
   "file_extension": ".py",
   "mimetype": "text/x-python",
   "name": "python",
   "nbconvert_exporter": "python",
   "pygments_lexer": "ipython3",
   "version": "3.10.9"
  }
 },
 "nbformat": 4,
 "nbformat_minor": 5
}
