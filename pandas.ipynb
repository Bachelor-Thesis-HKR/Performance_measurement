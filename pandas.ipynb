{
 "cells": [
  {
   "cell_type": "markdown",
   "id": "264c379c",
   "metadata": {},
   "source": [
    "# Performance Metrices for Pandas dataframe\n",
    "<hr></hr>\n",
    "<h3> Here in this code, we tend to measure the excution time of 4 methods</h3>\n",
    "<hr></hr>"
   ]
  },
  {
   "cell_type": "code",
   "execution_count": 76,
   "id": "4ee4d588",
   "metadata": {},
   "outputs": [],
   "source": [
    "import pandas as pd\n",
    "import timeit"
   ]
  },
  {
   "cell_type": "code",
   "execution_count": 77,
   "id": "18390cc8",
   "metadata": {},
   "outputs": [],
   "source": [
    "cycles = 10\n",
    "\n",
    "email_1 = 'splitted/emails_part_1.csv'\n",
    "email_2 = 'splitted/emails_part_2.csv'\n",
    "email_3 = 'splitted/emails_part_3.csv'\n",
    "email_4 = 'splitted/emails_part_4.csv'\n",
    "email_5 = 'splitted/emails_part_5.csv'\n",
    "email_6 = 'splitted/emails_part_6.csv'\n",
    "\n",
    "\n",
    "df1 = pd.read_csv('splitted/emails_part_1.csv') # 37  MB\n",
    "df2 = pd.read_csv('splitted/emails_part_2.csv') # 79  MB\n",
    "df3 = pd.read_csv('splitted/emails_part_3.csv') # 139 MB\n",
    "df4 = pd.read_csv('splitted/emails_part_4.csv') # 331 MB\n",
    "df5 = pd.read_csv('splitted/emails_part_5.csv') # 599 MB\n",
    "df6 = pd.read_csv('splitted/emails_part_6.csv') # 1.08 GB\n",
    "\n",
    "\n",
    "dfs = [df1, df2, df3, df4, df5, df6]\n",
    "\n",
    "file_paths = [\n",
    "    'splitted/emails_part_1.csv',\n",
    "    'splitted/emails_part_2.csv',\n",
    "    'splitted/emails_part_3.csv',\n",
    "    'splitted/emails_part_4.csv',\n",
    "    'splitted/emails_part_5.csv',\n",
    "    'splitted/emails_part_6.csv'\n",
    "]\n",
    "\n",
    "\n",
    "def average_time(myList):\n",
    "    total_time_spark = 0\n",
    "    for i in myList:\n",
    "        total_time_spark += i\n",
    "    avg_time = total_time_spark / cycles\n",
    "    return avg_time"
   ]
  },
  {
   "cell_type": "code",
   "execution_count": 78,
   "id": "98e501e9",
   "metadata": {},
   "outputs": [],
   "source": [
    "\n",
    "# Writing all the functions\n"
   ]
  },
  {
   "cell_type": "code",
   "execution_count": 79,
   "id": "12c9c974",
   "metadata": {},
   "outputs": [
    {
     "data": {
      "text/html": [
       "<div>\n",
       "<style scoped>\n",
       "    .dataframe tbody tr th:only-of-type {\n",
       "        vertical-align: middle;\n",
       "    }\n",
       "\n",
       "    .dataframe tbody tr th {\n",
       "        vertical-align: top;\n",
       "    }\n",
       "\n",
       "    .dataframe thead th {\n",
       "        text-align: right;\n",
       "    }\n",
       "</style>\n",
       "<table border=\"1\" class=\"dataframe\">\n",
       "  <thead>\n",
       "    <tr style=\"text-align: right;\">\n",
       "      <th></th>\n",
       "      <th>Date</th>\n",
       "      <th>From</th>\n",
       "      <th>To</th>\n",
       "      <th>Subject</th>\n",
       "      <th>Cc</th>\n",
       "      <th>Bcc</th>\n",
       "      <th>Message</th>\n",
       "    </tr>\n",
       "  </thead>\n",
       "  <tbody>\n",
       "    <tr>\n",
       "      <th>0</th>\n",
       "      <td>2001-09-14 14:05:43</td>\n",
       "      <td>fran.fagan@enron.com</td>\n",
       "      <td>lynn.blair@enron.com</td>\n",
       "      <td>FW: Promotions and Transfers- Gas Logistics</td>\n",
       "      <td>NaN</td>\n",
       "      <td>NaN</td>\n",
       "      <td>;;;;;NameNew TitleEffective DateMid Year promo...</td>\n",
       "    </tr>\n",
       "    <tr>\n",
       "      <th>1</th>\n",
       "      <td>2001-09-10 10:33:15</td>\n",
       "      <td>maggie.matheson@enron.com</td>\n",
       "      <td>randy.bryan@enron.com;robert.benningfield@enro...</td>\n",
       "      <td>Customer Training</td>\n",
       "      <td>bradley.holmes@enron.com;lynn.blair@enron.com</td>\n",
       "      <td>bradley.holmes@enron.com;lynn.blair@enron.com</td>\n",
       "      <td>;;;First I want to thank you for all of your h...</td>\n",
       "    </tr>\n",
       "    <tr>\n",
       "      <th>2</th>\n",
       "      <td>2001-08-20 12:34:19</td>\n",
       "      <td>sharon.brown@enron.com</td>\n",
       "      <td>e..anderson@enron.com;vicki.berg@enron.com;lyn...</td>\n",
       "      <td>Winter Ops - KC Hotel Information</td>\n",
       "      <td>julie.armstrong@enron.com;linda.wehring@enron....</td>\n",
       "      <td>julie.armstrong@enron.com;linda.wehring@enron....</td>\n",
       "      <td>;;Below listed is the contact information for ...</td>\n",
       "    </tr>\n",
       "    <tr>\n",
       "      <th>3</th>\n",
       "      <td>2001-07-05 08:35:29</td>\n",
       "      <td>lynn.blair@enron.com</td>\n",
       "      <td>sharon.brown@enron.com</td>\n",
       "      <td>Winter Ops Meeting</td>\n",
       "      <td>lynn.blair@enron.com;steven.january@enron.com;...</td>\n",
       "      <td>lynn.blair@enron.com;steven.january@enron.com;...</td>\n",
       "      <td>;;Sharon, could add the following company/pers...</td>\n",
       "    </tr>\n",
       "    <tr>\n",
       "      <th>4</th>\n",
       "      <td>2001-07-26 08:16:14</td>\n",
       "      <td>sharon.brown@enron.com</td>\n",
       "      <td>larry.steward@enron.com;toby.kuehl@enron.com;l...</td>\n",
       "      <td>Draft - Winter Ops Agenda</td>\n",
       "      <td>ricki.winters@enron.com;alma.carrillo@enron.co...</td>\n",
       "      <td>ricki.winters@enron.com;alma.carrillo@enron.co...</td>\n",
       "      <td>;;Attached is a draft of the agenda for the Wi...</td>\n",
       "    </tr>\n",
       "  </tbody>\n",
       "</table>\n",
       "</div>"
      ],
      "text/plain": [
       "                  Date                       From  \\\n",
       "0  2001-09-14 14:05:43       fran.fagan@enron.com   \n",
       "1  2001-09-10 10:33:15  maggie.matheson@enron.com   \n",
       "2  2001-08-20 12:34:19     sharon.brown@enron.com   \n",
       "3  2001-07-05 08:35:29       lynn.blair@enron.com   \n",
       "4  2001-07-26 08:16:14     sharon.brown@enron.com   \n",
       "\n",
       "                                                  To  \\\n",
       "0                               lynn.blair@enron.com   \n",
       "1  randy.bryan@enron.com;robert.benningfield@enro...   \n",
       "2  e..anderson@enron.com;vicki.berg@enron.com;lyn...   \n",
       "3                             sharon.brown@enron.com   \n",
       "4  larry.steward@enron.com;toby.kuehl@enron.com;l...   \n",
       "\n",
       "                                       Subject  \\\n",
       "0  FW: Promotions and Transfers- Gas Logistics   \n",
       "1                            Customer Training   \n",
       "2            Winter Ops - KC Hotel Information   \n",
       "3                           Winter Ops Meeting   \n",
       "4                    Draft - Winter Ops Agenda   \n",
       "\n",
       "                                                  Cc  \\\n",
       "0                                                NaN   \n",
       "1      bradley.holmes@enron.com;lynn.blair@enron.com   \n",
       "2  julie.armstrong@enron.com;linda.wehring@enron....   \n",
       "3  lynn.blair@enron.com;steven.january@enron.com;...   \n",
       "4  ricki.winters@enron.com;alma.carrillo@enron.co...   \n",
       "\n",
       "                                                 Bcc  \\\n",
       "0                                                NaN   \n",
       "1      bradley.holmes@enron.com;lynn.blair@enron.com   \n",
       "2  julie.armstrong@enron.com;linda.wehring@enron....   \n",
       "3  lynn.blair@enron.com;steven.january@enron.com;...   \n",
       "4  ricki.winters@enron.com;alma.carrillo@enron.co...   \n",
       "\n",
       "                                             Message  \n",
       "0  ;;;;;NameNew TitleEffective DateMid Year promo...  \n",
       "1  ;;;First I want to thank you for all of your h...  \n",
       "2  ;;Below listed is the contact information for ...  \n",
       "3  ;;Sharon, could add the following company/pers...  \n",
       "4  ;;Attached is a draft of the agenda for the Wi...  "
      ]
     },
     "execution_count": 79,
     "metadata": {},
     "output_type": "execute_result"
    }
   ],
   "source": [
    "\n",
    "dd = pd.read_csv(email_2)\n",
    "dd.head()"
   ]
  },
  {
   "cell_type": "markdown",
   "id": "db74c7d7",
   "metadata": {},
   "source": [
    "# Data Loading"
   ]
  },
  {
   "cell_type": "code",
   "execution_count": 80,
   "id": "f276bb2c",
   "metadata": {},
   "outputs": [
    {
     "name": "stdout",
     "output_type": "stream",
     "text": [
      "Average read time for email_1: 0.28225 seconds\n",
      "Average read time for email_2: 0.49697 seconds\n",
      "Average read time for email_3: 0.93224 seconds\n",
      "Average read time for email_4: 2.09893 seconds\n",
      "Average read time for email_5: 3.80745 seconds\n",
      "Average read time for email_6: 6.97936 seconds\n"
     ]
    }
   ],
   "source": [
    "# Read the CSV file\n",
    "def read_csv(x):\n",
    "    df = pd.read_csv(x)\n",
    "    return df\n",
    "\n",
    "# Measurement - read_csv\n",
    "def read_time(dis):\n",
    "    start_time = timeit.default_timer()\n",
    "    dataframe = read_csv(dis)\n",
    "    end_time = timeit.default_timer()\n",
    "    return end_time - start_time\n",
    "\n",
    "def measure_average_read_time(files, cycles=10):\n",
    "    avg_times = []\n",
    "    for file_path in files:\n",
    "        timings_pandas = [read_time(file_path) for _ in range(cycles)]\n",
    "        avg_time_pandas = average_time(timings_pandas)\n",
    "        avg_times.append(avg_time_pandas)\n",
    "    return avg_times\n",
    "\n",
    "avg_times = measure_average_read_time(file_paths)\n",
    "\n",
    "for i, avg_time in enumerate(avg_times, 1):\n",
    "    print(f\"Average read time for email_{i}: {avg_time:.5f} seconds\")\n"
   ]
  },
  {
   "cell_type": "markdown",
   "id": "48574ae5",
   "metadata": {},
   "source": [
    "# Filtering and Selection"
   ]
  },
  {
   "cell_type": "code",
   "execution_count": 81,
   "id": "372a3321",
   "metadata": {},
   "outputs": [
    {
     "name": "stdout",
     "output_type": "stream",
     "text": [
      "Average filter time for email_1 with sender john.arnold@enron.com: 0.00363 seconds\n",
      "Average filter time for email_2 with sender john.arnold@enron.com: 0.00430 seconds\n",
      "Average filter time for email_3 with sender john.arnold@enron.com: 0.00862 seconds\n",
      "Average filter time for email_4 with sender john.arnold@enron.com: 0.01695 seconds\n",
      "Average filter time for email_5 with sender john.arnold@enron.com: 0.03110 seconds\n",
      "Average filter time for email_6 with sender john.arnold@enron.com: 0.06460 seconds\n"
     ]
    }
   ],
   "source": [
    "# Filter and select\n",
    "\n",
    "# sender to filter from : sharon.brown@enron.com  /  \"john.arnold@enron.com\"\n",
    "\n",
    "def filter_and_select(df, sender=None):\n",
    "    filtered_df = df.copy()\n",
    "    if sender:\n",
    "        filtered_df = filtered_df[filtered_df['From'] == sender]\n",
    "    return filtered_df\n",
    "\n",
    "# Measurement - Filter_csv\n",
    "def filter_time(dis, sender):\n",
    "    start_time = timeit.default_timer()\n",
    "    dataframe = filter_and_select(dis, sender= sender)\n",
    "    end_time = timeit.default_timer()\n",
    "    return end_time - start_time\n",
    "\n",
    "def measure_average_filter_time(files, sender, cycles=10):\n",
    "    avg_times = []\n",
    "    for file_path in files:\n",
    "        timings_pandas = [filter_time(file_path, sender) for _ in range(cycles)]\n",
    "        avg_time_pandas = average_time(timings_pandas)\n",
    "        avg_times.append(avg_time_pandas)\n",
    "    return avg_times\n",
    "\n",
    "\n",
    "sender = \"john.arnold@enron.com\"\n",
    "avg_times = measure_average_filter_time(dfs, sender)\n",
    "\n",
    "for i, avg_time in enumerate(avg_times, 1):\n",
    "    print(f\"Average filter time for email_{i} with sender {sender}: {avg_time:.5f} seconds\")"
   ]
  },
  {
   "cell_type": "markdown",
   "id": "264e341c",
   "metadata": {},
   "source": [
    "# GroupBy and Aggregation"
   ]
  },
  {
   "cell_type": "code",
   "execution_count": 82,
   "id": "4b6018d0",
   "metadata": {},
   "outputs": [
    {
     "name": "stdout",
     "output_type": "stream",
     "text": [
      "Average groupby and aggregation time for email_1 with groupby column 'From': 0.00398 seconds\n",
      "Average groupby and aggregation time for email_2 with groupby column 'From': 0.00534 seconds\n",
      "Average groupby and aggregation time for email_3 with groupby column 'From': 0.00937 seconds\n",
      "Average groupby and aggregation time for email_4 with groupby column 'From': 0.01601 seconds\n",
      "Average groupby and aggregation time for email_5 with groupby column 'From': 0.03041 seconds\n",
      "Average groupby and aggregation time for email_6 with groupby column 'From': 0.05860 seconds\n"
     ]
    }
   ],
   "source": [
    "# Group_by and Aggregage\n",
    "\n",
    "def groupby_and_aggregate(df, groupby_column, agg_function):\n",
    "    return df.groupby(groupby_column).agg(agg_function)\n",
    "\n",
    "# GroupBy and aggregation example\n",
    "\n",
    "\n",
    "#grouped_df = groupby_and_aggregate(df, groupby_column=\"From\", agg_function={\"Date\": \"count\"})\n",
    "\n",
    "\n",
    "# Measurement - Filter_csv\n",
    "def groupby_and_aggregate_time(dis, groupby_column):\n",
    "    start_time = timeit.default_timer()\n",
    "    grouped_df = groupby_and_aggregate(dis, groupby_column=groupby_column, agg_function={\"Date\": \"count\"})\n",
    "    end_time = timeit.default_timer()\n",
    "    return end_time - start_time\n",
    "\n",
    "def measure_average_groupby_aggregate_time(files, groupby_column):\n",
    "    avg_times = []\n",
    "    for file_path in files:\n",
    "        timings_pandas = [groupby_and_aggregate_time(file_path, groupby_column) for _ in range(cycles)]\n",
    "        avg_time_pandas = average_time(timings_pandas)\n",
    "        avg_times.append(avg_time_pandas)\n",
    "    return avg_times\n",
    "\n",
    "\n",
    "groupby_column = \"From\"\n",
    "avg_times = measure_average_groupby_aggregate_time(dfs, groupby_column)\n",
    "\n",
    "for i, avg_time in enumerate(avg_times, 1):\n",
    "    print(f\"Average groupby and aggregation time for email_{i} with groupby column '{groupby_column}': {avg_time:.5f} seconds\")\n"
   ]
  },
  {
   "cell_type": "code",
   "execution_count": null,
   "id": "b408b86e",
   "metadata": {},
   "outputs": [],
   "source": []
  },
  {
   "cell_type": "markdown",
   "id": "a5faf797",
   "metadata": {},
   "source": [
    "#  Data Transformation"
   ]
  },
  {
   "cell_type": "code",
   "execution_count": 83,
   "id": "2be4c7fd",
   "metadata": {},
   "outputs": [
    {
     "name": "stdout",
     "output_type": "stream",
     "text": [
      "Average data transformation time for email_1 with column 'Subject': 0.00321 seconds\n",
      "Average data transformation time for email_2 with column 'Subject': 0.00514 seconds\n",
      "Average data transformation time for email_3 with column 'Subject': 0.01020 seconds\n",
      "Average data transformation time for email_4 with column 'Subject': 0.02106 seconds\n",
      "Average data transformation time for email_5 with column 'Subject': 0.04258 seconds\n",
      "Average data transformation time for email_6 with column 'Subject': 0.08491 seconds\n"
     ]
    }
   ],
   "source": [
    "# Tranform measurement\n",
    "\n",
    "def transform_data(df, column, transformation_function):\n",
    "    return df[column].apply(transformation_function)\n",
    "\n",
    "# Data transformation example / transformation_function\n",
    "def uppercase_subject(subject):\n",
    "    if isinstance(subject, str):\n",
    "        return subject.upper()\n",
    "    return subject\n",
    "\n",
    "\n",
    "# Measurement - Filter_csv\n",
    "def transform_data_time(dis, column):\n",
    "    start_time = timeit.default_timer()\n",
    "    dis[\"Subject\"] = transform_data(dis, column, uppercase_subject)\n",
    "    end_time = timeit.default_timer()\n",
    "    return end_time - start_time\n",
    "\n",
    "def measure_average_transform_data_time(files, column):\n",
    "    avg_times = []\n",
    "    for file_path in files:\n",
    "        timings_pandas = [transform_data_time(file_path, column) for _ in range(cycles)]\n",
    "        avg_time_pandas = average_time(timings_pandas)\n",
    "        avg_times.append(avg_time_pandas)\n",
    "    return avg_times\n",
    "\n",
    "\n",
    "column = \"Subject\"\n",
    "avg_times = measure_average_transform_data_time(dfs, column)\n",
    "\n",
    "for i, avg_time in enumerate(avg_times, 1):\n",
    "    print(f\"Average data transformation time for email_{i} with column '{column}': {avg_time:.5f} seconds\")\n"
   ]
  }
 ],
 "metadata": {
  "kernelspec": {
   "display_name": "Python 3 (ipykernel)",
   "language": "python",
   "name": "python3"
  },
  "language_info": {
   "codemirror_mode": {
    "name": "ipython",
    "version": 3
   },
   "file_extension": ".py",
   "mimetype": "text/x-python",
   "name": "python",
   "nbconvert_exporter": "python",
   "pygments_lexer": "ipython3",
   "version": "3.10.9"
  }
 },
 "nbformat": 4,
 "nbformat_minor": 5
}
