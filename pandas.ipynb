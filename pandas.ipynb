{
 "cells": [
  {
   "cell_type": "code",
   "execution_count": null,
   "id": "63fb1065",
   "metadata": {},
   "outputs": [],
   "source": []
  },
  {
   "cell_type": "code",
   "execution_count": 10,
   "id": "c5a5778f",
   "metadata": {},
   "outputs": [],
   "source": [
    "import pandas as pd\n",
    "import timeit"
   ]
  },
  {
   "cell_type": "code",
   "execution_count": 11,
   "id": "6d01bada",
   "metadata": {},
   "outputs": [],
   "source": [
    "emails = \"emails.csv\""
   ]
  },
  {
   "cell_type": "code",
   "execution_count": 12,
   "id": "261cf151",
   "metadata": {},
   "outputs": [],
   "source": [
    "# Writing all the functions"
   ]
  },
  {
   "cell_type": "code",
   "execution_count": 13,
   "id": "228fd17f",
   "metadata": {},
   "outputs": [],
   "source": [
    "# Read the CSV file\n",
    "def read_csv():\n",
    "    df = pd.read_csv(emails)\n",
    "    return df"
   ]
  },
  {
   "cell_type": "code",
   "execution_count": 14,
   "id": "5140d202",
   "metadata": {},
   "outputs": [],
   "source": [
    "# Filtering and selection\n",
    "def filter_emails(df):\n",
    "    filtered_df = df[df['subject'].str.contains('Enron')]\n",
    "    return filtered_df"
   ]
  },
  {
   "cell_type": "code",
   "execution_count": 15,
   "id": "124ccfbc",
   "metadata": {},
   "outputs": [],
   "source": [
    "# GroupBy and aggregation\n",
    "def groupby_emails(df):\n",
    "    grouped_df = df.groupby('from').agg({'size': ['sum', 'mean', 'count']})\n",
    "    return grouped_df"
   ]
  },
  {
   "cell_type": "code",
   "execution_count": 16,
   "id": "19be8d4b",
   "metadata": {},
   "outputs": [],
   "source": [
    "# Data transformation\n",
    "def transform_emails(df):\n",
    "    transformed_df = df.copy()\n",
    "    transformed_df['size_kb'] = transformed_df['size'] / 1024\n",
    "    return transformed_df"
   ]
  },
  {
   "cell_type": "code",
   "execution_count": 17,
   "id": "5d1f6eb2",
   "metadata": {},
   "outputs": [],
   "source": [
    "methods = [read_csv, filter_emails, groupby_emails, transform_emails]\n",
    "method_names = ['Read CSV', 'Filter & Select', 'GroupBy & Aggregation', 'Data Transformation']\n"
   ]
  },
  {
   "cell_type": "code",
   "execution_count": 18,
   "id": "14cbf966",
   "metadata": {},
   "outputs": [
    {
     "ename": "TypeError",
     "evalue": "read_csv() takes 0 positional arguments but 1 was given",
     "output_type": "error",
     "traceback": [
      "\u001b[0;31m---------------------------------------------------------------------------\u001b[0m",
      "\u001b[0;31mTypeError\u001b[0m                                 Traceback (most recent call last)",
      "Cell \u001b[0;32mIn[18], line 7\u001b[0m\n\u001b[1;32m      5\u001b[0m start_time \u001b[38;5;241m=\u001b[39m timeit\u001b[38;5;241m.\u001b[39mdefault_timer()\n\u001b[1;32m      6\u001b[0m df \u001b[38;5;241m=\u001b[39m read_csv()\n\u001b[0;32m----> 7\u001b[0m \u001b[43mmethod\u001b[49m\u001b[43m(\u001b[49m\u001b[43mdf\u001b[49m\u001b[43m)\u001b[49m\n\u001b[1;32m      8\u001b[0m end_time \u001b[38;5;241m=\u001b[39m timeit\u001b[38;5;241m.\u001b[39mdefault_timer()\n\u001b[1;32m     10\u001b[0m timings\u001b[38;5;241m.\u001b[39mappend(end_time \u001b[38;5;241m-\u001b[39m start_time)\n",
      "\u001b[0;31mTypeError\u001b[0m: read_csv() takes 0 positional arguments but 1 was given"
     ]
    }
   ],
   "source": [
    "for method, method_name in zip(methods, method_names):\n",
    "    timings = []\n",
    "\n",
    "    for _ in range(5):\n",
    "        start_time = timeit.default_timer()\n",
    "        df = read_csv()\n",
    "        method(df)\n",
    "        end_time = timeit.default_timer()\n",
    "\n",
    "        timings.append(end_time - start_time)\n",
    "\n",
    "    avg_time = sum(timings) / len(timings)\n",
    "    print(f\"{method_name}: Average execution time over 5 runs = {avg_time:.2e} seconds\")"
   ]
  },
  {
   "cell_type": "code",
   "execution_count": null,
   "id": "89f3252a",
   "metadata": {},
   "outputs": [],
   "source": []
  }
 ],
 "metadata": {
  "kernelspec": {
   "display_name": "Python 3 (ipykernel)",
   "language": "python",
   "name": "python3"
  },
  "language_info": {
   "codemirror_mode": {
    "name": "ipython",
    "version": 3
   },
   "file_extension": ".py",
   "mimetype": "text/x-python",
   "name": "python",
   "nbconvert_exporter": "python",
   "pygments_lexer": "ipython3",
   "version": "3.10.9"
  }
 },
 "nbformat": 4,
 "nbformat_minor": 5
}
