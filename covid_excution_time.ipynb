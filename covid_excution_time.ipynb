{
 "cells": [
  {
   "cell_type": "markdown",
   "id": "9a52a246",
   "metadata": {},
   "source": [
    "# Excution time measurements\n"
   ]
  },
  {
   "cell_type": "code",
   "execution_count": 134,
   "id": "27c8ce3b",
   "metadata": {},
   "outputs": [],
   "source": [
    "cycles = 5"
   ]
  },
  {
   "cell_type": "markdown",
   "id": "591b509b",
   "metadata": {},
   "source": [
    "# Pandas"
   ]
  },
  {
   "cell_type": "code",
   "execution_count": 18,
   "id": "33b23246",
   "metadata": {},
   "outputs": [],
   "source": [
    "import pandas as pd\n",
    "import sys\n",
    "import os\n",
    "import timeit"
   ]
  },
  {
   "cell_type": "code",
   "execution_count": 118,
   "id": "828b8b79",
   "metadata": {},
   "outputs": [],
   "source": [
    "data1 = 'output/data1.csv'\n",
    "data2 = 'output/data2.csv'\n",
    "\n",
    "\n",
    "\n",
    "file_pathss = [\n",
    "    'output/data1.csv',\n",
    "    'output/data2.csv',\n",
    "    'output/data3.csv',\n",
    "    'output/data4.csv'\n",
    "]\n",
    "\n",
    "\n",
    "file_paths = [\n",
    "    'output/data1.csv',\n",
    "    'output/data2.csv',\n",
    "    'output/data3.csv',\n",
    "    'output/data4.csv',\n",
    "    'output/data5.csv',\n",
    "    'output/data6.csv',\n",
    "    'output/data7.csv',\n",
    "    'output/data8.csv',\n",
    "    'output/data9.csv',\n",
    "    'output/data10.csv',\n",
    "    'output/data12.csv',\n",
    "    'output/data13.csv',\n",
    "    'output/data14.csv',\n",
    "    'output/data15.csv',\n",
    "]\n",
    "\n",
    "bigger_files = [\n",
    "    'output/data16.csv',\n",
    "    'output/data17.csv',\n",
    "    'output/data18.csv',\n",
    "    'output/data19.csv',\n",
    "    'output/data20.csv',\n",
    "    'output/data21.csv',\n",
    "    'output/data22.csv',\n",
    "    'output/data23.csv',\n",
    "    'output/data24.csv'\n",
    "]\n",
    "\n",
    "\n",
    "def average_time(myList):\n",
    "    total_time_spark = 0\n",
    "    for i in myList:\n",
    "        total_time_spark += i\n",
    "    avg_time = total_time_spark / cycles\n",
    "    return avg_time"
   ]
  },
  {
   "cell_type": "code",
   "execution_count": 30,
   "id": "3ac78aca",
   "metadata": {},
   "outputs": [],
   "source": [
    "df1 = pd.read_csv(data1)\n"
   ]
  },
  {
   "cell_type": "markdown",
   "id": "6be2e9eb",
   "metadata": {},
   "source": [
    "# Data Loading"
   ]
  },
  {
   "cell_type": "code",
   "execution_count": 127,
   "id": "50e7e51f",
   "metadata": {},
   "outputs": [],
   "source": [
    "def read_csv(x):\n",
    "    df = pd.read_csv(x)\n",
    "    return df\n",
    "\n",
    "def read_time(dis):\n",
    "    start_time = timeit.default_timer()\n",
    "    dataframe = read_csv(dis)\n",
    "    end_time = timeit.default_timer()\n",
    "    return end_time - start_time\n",
    "\n",
    "\n",
    "def measure_average_read_time(files, cycles=10):\n",
    "    avg_times = []\n",
    "    for file_path in files:\n",
    "        timings_pandas = [read_time(file_path) for _ in range(cycles)]\n",
    "        avg_time_pandas = average_time(timings_pandas)\n",
    "        avg_times.append(avg_time_pandas)\n",
    "    return avg_times\n",
    "\n",
    "def run_loading(paths):\n",
    "    avg_times = measure_average_read_time(paths)\n",
    "\n",
    "    for i, avg_time in enumerate(avg_times, 1):\n",
    "        print(f\"Average read time for data_{i}: {avg_time:.5f} seconds\")\n",
    "        \n",
    "run_loading(file_paths)\n"
   ]
  },
  {
   "cell_type": "code",
   "execution_count": 119,
   "id": "f823d3a6",
   "metadata": {},
   "outputs": [
    {
     "name": "stdout",
     "output_type": "stream",
     "text": [
      "Average read time for data_1: 25.89928 seconds\n",
      "Average read time for data_2: 39.33730 seconds\n",
      "Average read time for data_3: 48.52571 seconds\n",
      "Average read time for data_4: 60.61468 seconds\n",
      "Average read time for data_5: 70.24155 seconds\n",
      "Average read time for data_6: 76.79467 seconds\n",
      "Average read time for data_7: 83.14161 seconds\n",
      "Average read time for data_8: 94.47625 seconds\n",
      "Average read time for data_9: 106.77703 seconds\n"
     ]
    }
   ],
   "source": [
    "# Measuring lead time of bigger datasize - 6Gb - 15 GB\n",
    "run_loading(bigger_files)"
   ]
  },
  {
   "cell_type": "markdown",
   "id": "061fbf08",
   "metadata": {},
   "source": [
    "# Filtering and Selection"
   ]
  },
  {
   "cell_type": "code",
   "execution_count": 136,
   "id": "6385ceff",
   "metadata": {},
   "outputs": [
    {
     "name": "stdout",
     "output_type": "stream",
     "text": [
      "Average filter time for data-1: 0.00349 seconds\n",
      "Average filter time for data-2: 0.00473 seconds\n",
      "Average filter time for data-3: 0.00702 seconds\n",
      "Average filter time for data-4: 0.00936 seconds\n",
      "Average filter time for data-5: 0.01178 seconds\n",
      "Average filter time for data-6: 0.01631 seconds\n",
      "Average filter time for data-7: 0.01802 seconds\n",
      "Average filter time for data-8: 0.01983 seconds\n",
      "Average filter time for data-9: 0.03158 seconds\n",
      "Average filter time for data-10: 0.03112 seconds\n",
      "Average filter time for data-11: 0.08747 seconds\n",
      "Average filter time for data-12: 0.18891 seconds\n",
      "Average filter time for data-13: 0.72862 seconds\n",
      "Average filter time for data-14: 1.95690 seconds\n"
     ]
    }
   ],
   "source": [
    "test = pd.read_csv(\"output/data1.csv\")\n",
    "\n",
    "addresses = [\"output/data1.csv\"]\n",
    "\n",
    "# we are filtering from a column \"5.164162635803223\" which are in values b/n and including 6 and 7.\n",
    "def filter_and_select(filter_it):\n",
    "    return filter_it.loc[(filter_it[\"5.164162635803223\"] >= 6) & (filter_it[\"5.164162635803223\"] <= 7)]\n",
    "\n",
    "# Measurement - Filter_csv\n",
    "def filter_time(dis):\n",
    "    start_time = timeit.default_timer()\n",
    "    dataframe = filter_and_select(dis)\n",
    "    end_time = timeit.default_timer()\n",
    "    return end_time - start_time\n",
    "\n",
    "def measure_average_filter_time(files, cycles=10):\n",
    "    avg_times = []\n",
    "    for file_path in files:\n",
    "        local_df = pd.read_csv(file_path)\n",
    "        timings_pandas = [filter_time(local_df) for _ in range(cycles)]\n",
    "        avg_time_pandas = average_time(timings_pandas)\n",
    "        avg_times.append(avg_time_pandas)\n",
    "    return avg_times\n",
    "\n",
    "def run_filter(addresses):\n",
    "    avg_times = measure_average_filter_time(addresses)\n",
    "\n",
    "    for i, avg_time in enumerate(avg_times, 1):\n",
    "        print(f\"Average filter time for data-{i}: {avg_time:.5f} seconds\")\n",
    "        \n",
    "run_filter(file_paths)\n"
   ]
  },
  {
   "cell_type": "code",
   "execution_count": 135,
   "id": "80653ae0",
   "metadata": {},
   "outputs": [
    {
     "name": "stdout",
     "output_type": "stream",
     "text": [
      "Average filter time for data-1: 1.55108 seconds\n",
      "Average filter time for data-2: 2.82007 seconds\n",
      "Average filter time for data-3: 4.15704 seconds\n",
      "Average filter time for data-4: 5.44873 seconds\n",
      "Average filter time for data-5: 7.53639 seconds\n",
      "Average filter time for data-6: 8.85096 seconds\n",
      "Average filter time for data-7: 13.64158 seconds\n",
      "Average filter time for data-8: 55.19761 seconds\n",
      "Average filter time for data-9: 56.10705 seconds\n"
     ]
    }
   ],
   "source": [
    "run_filter(bigger_files)"
   ]
  },
  {
   "cell_type": "markdown",
   "id": "c9b94ca4",
   "metadata": {},
   "source": [
    "# Data Transformation"
   ]
  },
  {
   "cell_type": "code",
   "execution_count": 110,
   "id": "ea946faf",
   "metadata": {},
   "outputs": [
    {
     "name": "stdout",
     "output_type": "stream",
     "text": [
      "Average Transform time for data-1: 0.02265 seconds\n",
      "Average Transform time for data-2: 0.03163 seconds\n",
      "Average Transform time for data-3: 0.03230 seconds\n",
      "Average Transform time for data-4: 0.06181 seconds\n"
     ]
    }
   ],
   "source": [
    "test = pd.read_csv(\"output/data1.csv\")\n",
    "\n",
    "addresses = [\"output/data1.csv\"]\n",
    "\n",
    "\n",
    "# we are filtering from a column \"5.164162635803223\" which are in values b/n and including 6 and 7.\n",
    "def transform(filter_it):\n",
    "    return filter_it.round(3)\n",
    "\n",
    "# Measurement - Filter_csv\n",
    "def transform_time(dis):\n",
    "    start_time = timeit.default_timer()\n",
    "    dataframe = transform(dis)\n",
    "    end_time = timeit.default_timer()\n",
    "    return end_time - start_time\n",
    "\n",
    "def measure_average_transform_time(files, cycles=10):\n",
    "    avg_times = []\n",
    "    for file_path in files:\n",
    "        local_df = pd.read_csv(file_path)\n",
    "        timings_pandas = [transform_time(local_df) for _ in range(cycles)]\n",
    "        avg_time_pandas = average_time(timings_pandas)\n",
    "        avg_times.append(avg_time_pandas)\n",
    "    return avg_times\n",
    "\n",
    "def run_transformation(addresses):\n",
    "    avg_times = measure_average_transform_time(addresses)\n",
    "\n",
    "    for i, avg_time in enumerate(avg_times, 1):\n",
    "        if i >= 11:\n",
    "            print(f\"Average Transform time for data-{i + 1}: {avg_time:.5f} seconds\")\n",
    "        print(f\"Average Transform time for data-{i}: {avg_time:.5f} seconds\")\n",
    "        \n",
    "run_transformation(file_paths)"
   ]
  },
  {
   "cell_type": "code",
   "execution_count": null,
   "id": "a3fae42b",
   "metadata": {},
   "outputs": [],
   "source": [
    "\n"
   ]
  },
  {
   "cell_type": "code",
   "execution_count": null,
   "id": "72362e2d",
   "metadata": {},
   "outputs": [],
   "source": []
  },
  {
   "cell_type": "code",
   "execution_count": null,
   "id": "15dc2406",
   "metadata": {},
   "outputs": [],
   "source": []
  },
  {
   "cell_type": "code",
   "execution_count": null,
   "id": "a10b8f40",
   "metadata": {},
   "outputs": [],
   "source": []
  },
  {
   "cell_type": "code",
   "execution_count": 7,
   "id": "ce9ffe93",
   "metadata": {},
   "outputs": [],
   "source": [
    "import pyspark\n",
    "import timeit\n",
    "import pandas as pd\n",
    "from pyspark.sql import SparkSession\n",
    "from pyspark.sql.functions import col, sum, mean, count, udf\n",
    "import timeit\n",
    "from pyspark.sql.types import StringType\n",
    "from pyspark.sql import functions as F"
   ]
  }
 ],
 "metadata": {
  "kernelspec": {
   "display_name": "Python 3 (ipykernel)",
   "language": "python",
   "name": "python3"
  },
  "language_info": {
   "codemirror_mode": {
    "name": "ipython",
    "version": 3
   },
   "file_extension": ".py",
   "mimetype": "text/x-python",
   "name": "python",
   "nbconvert_exporter": "python",
   "pygments_lexer": "ipython3",
   "version": "3.10.9"
  }
 },
 "nbformat": 4,
 "nbformat_minor": 5
}
