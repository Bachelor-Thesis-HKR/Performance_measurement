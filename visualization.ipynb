{
 "cells": [
  {
   "cell_type": "code",
   "execution_count": null,
   "id": "1b06cfd0",
   "metadata": {},
   "outputs": [],
   "source": []
  },
  {
   "cell_type": "code",
   "execution_count": null,
   "id": "479d4d95",
   "metadata": {},
   "outputs": [],
   "source": []
  },
  {
   "cell_type": "markdown",
   "id": "fa07c496",
   "metadata": {},
   "source": [
    "Okay cool. Now, \n",
    "\n",
    "I want you present my results and use seaborn diagrams. more like a one diagram where i show two lines, green for spark and blue for pandas. I want to have one diagram for each methods, like data loading, filtering, groupby and data transformation. so in total 4 diagrams. you can make the excution time as y axis and size of the files in csv in x axis.\n",
    "\n",
    "Make sure you add some reasoning why each method out performed the other of the two dataframes.\n"
   ]
  },
  {
   "cell_type": "code",
   "execution_count": null,
   "id": "726abdfb",
   "metadata": {},
   "outputs": [],
   "source": [
    "#These are the excution times in seconds. They are of 10 cycles.\n",
    "#Each entry is for specific csv file from sizes list respectively\n",
    "sizes = [37, 79, 139, 331, 599, 1080] # CSV file Sizes in MB "
   ]
  },
  {
   "cell_type": "markdown",
   "id": "6097940a",
   "metadata": {},
   "source": [
    "# Data Loading"
   ]
  },
  {
   "cell_type": "code",
   "execution_count": null,
   "id": "6c237730",
   "metadata": {},
   "outputs": [],
   "source": [
    "\n",
    "pandas_read_times = [0.28225, 0.49697, 0.93224, 2.09893, 3.80745, 6.97936]\n",
    "spark = [0.02039, 0.01532, 0.01878, 0.04353, 0.06368, 0.10706]\n"
   ]
  },
  {
   "cell_type": "markdown",
   "id": "7a6e83f2",
   "metadata": {},
   "source": [
    "# Filtering and Selection"
   ]
  },
  {
   "cell_type": "code",
   "execution_count": null,
   "id": "041e8c4f",
   "metadata": {},
   "outputs": [],
   "source": [
    "\n",
    "# Average filter time for emails from john.arnold@enron.com\n",
    "# These times are in seconds\n",
    "\n",
    "pandas_filter_times = [0.00363, 0.00430, 0.00862, 0.01695, 0.03110, 0.06460]\n",
    "spark_filter_times = [0.00317, 0.00176, 0.00138, 0.00113, 0.00104, 0.00086]\n"
   ]
  },
  {
   "cell_type": "markdown",
   "id": "090a1381",
   "metadata": {},
   "source": [
    "# GroupBy and Aggregation"
   ]
  },
  {
   "cell_type": "code",
   "execution_count": 5,
   "id": "727a3b81",
   "metadata": {},
   "outputs": [],
   "source": [
    "\n",
    "pandas_groupby_and_aggregation_times = [0.00398, 0.00534, 0.00937, 0.01601, 0.03041, 0.05860]\n",
    "Spark_times = [0.00488, 0.00281, 0.00222, 0.00259, 0.00256, 0.00249]\n",
    "\n"
   ]
  },
  {
   "cell_type": "markdown",
   "id": "862c3cb5",
   "metadata": {},
   "source": [
    "#  Data Transformation"
   ]
  },
  {
   "cell_type": "code",
   "execution_count": 8,
   "id": "13e33de3",
   "metadata": {},
   "outputs": [],
   "source": [
    "\n",
    "pandas_data_transformation_times = [0.00321, 0.00514, 0.01020, 0.02106, 0.04258, 0.08491]\n",
    "spark_data_transformation_times = [0.00851, 0.00657, 0.00756, 0.00662, 0.00710, 0.00498]\n"
   ]
  },
  {
   "cell_type": "code",
   "execution_count": null,
   "id": "b9532263",
   "metadata": {},
   "outputs": [],
   "source": []
  }
 ],
 "metadata": {
  "kernelspec": {
   "display_name": "Python 3 (ipykernel)",
   "language": "python",
   "name": "python3"
  },
  "language_info": {
   "codemirror_mode": {
    "name": "ipython",
    "version": 3
   },
   "file_extension": ".py",
   "mimetype": "text/x-python",
   "name": "python",
   "nbconvert_exporter": "python",
   "pygments_lexer": "ipython3",
   "version": "3.10.9"
  }
 },
 "nbformat": 4,
 "nbformat_minor": 5
}
