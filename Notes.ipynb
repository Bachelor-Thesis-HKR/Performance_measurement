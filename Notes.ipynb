{
 "cells": [
  {
   "cell_type": "code",
   "execution_count": null,
   "id": "ec499a4e",
   "metadata": {},
   "outputs": [],
   "source": [
    "----------------------------------------------------------------------------------------------------------------\n",
    "# Pandas read_csv\n",
    "\n",
    "def read_csv_pandas(x):\n",
    "    df = pd.read_csv(x)\n",
    "    return df\n",
    "\n",
    "# Spark read_csv\n",
    "def read_csv_spark(x):\n",
    "    df = spark.read.option('header', 'true').csv(x, inferSchema=True)\n",
    "    return df\n",
    "\n",
    "----------------------------------------------------------------------------------------------------------------\n",
    "\n",
    "def filter_and_select_pandas(df, sender=None):\n",
    "    if sender:\n",
    "        filtered_df = df[df['From'] == sender]\n",
    "    return filtered_df\n",
    "\n",
    "def filter_and_select_sparks(df, sender=None):\n",
    "    if sender:\n",
    "        filtered_df = df.filter(col(\"From\") == sender) \n",
    "    return filtered_df\n",
    "\n",
    "----------------------------------------------------------------------------------------------------------------\n",
    "\n",
    "agg_function = {\"Date\": \"count\"}\n",
    "\n",
    "def groupby_and_aggregate_pandas(df, groupby_column, agg_function):\n",
    "    return df.groupby(groupby_column).agg(agg_function)\n",
    "\n",
    "def groupby_and_aggregate_spark(df, groupby_column, agg_function):\n",
    "    return df.groupby(groupby_column).agg(agg_function)\n",
    "\n",
    "----------------------------------------------------------------------------------------------------------------\n",
    "\n",
    "def transform_data(df, column, transformation_function):\n",
    "    return df[column].apply(transformation_function)\n",
    "\n",
    "def transform_data_spark(df, column, transformation_function):\n",
    "    udf_transform = udf(transformation_function, StringType())\n",
    "    return df.withColumn(column, udf_transform(col(column)))\n",
    "\n",
    "\n",
    "----------------------------------------------------------------------------------------------------------------\n",
    "\n",
    "----------------------------------------------------------------------------------------------------------------\n",
    "----------------------------------------------------------------------------------------------------------------\n",
    "\n"
   ]
  }
 ],
 "metadata": {
  "kernelspec": {
   "display_name": "Python 3 (ipykernel)",
   "language": "python",
   "name": "python3"
  },
  "language_info": {
   "codemirror_mode": {
    "name": "ipython",
    "version": 3
   },
   "file_extension": ".py",
   "mimetype": "text/x-python",
   "name": "python",
   "nbconvert_exporter": "python",
   "pygments_lexer": "ipython3",
   "version": "3.10.9"
  }
 },
 "nbformat": 4,
 "nbformat_minor": 5
}
