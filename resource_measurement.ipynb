{
 "cells": [
  {
   "cell_type": "code",
   "execution_count": 1,
   "id": "db8afef2",
   "metadata": {},
   "outputs": [
    {
     "name": "stdout",
     "output_type": "stream",
     "text": [
      "23/05/07 17:47:14 WARN Utils: Your hostname, Merons-MacBook-Air.local resolves to a loopback address: 127.0.0.1; using 192.168.0.106 instead (on interface en0)\n",
      "23/05/07 17:47:14 WARN Utils: Set SPARK_LOCAL_IP if you need to bind to another address\n"
     ]
    },
    {
     "name": "stderr",
     "output_type": "stream",
     "text": [
      "Setting default log level to \"WARN\".\n",
      "To adjust logging level use sc.setLogLevel(newLevel). For SparkR, use setLogLevel(newLevel).\n"
     ]
    },
    {
     "name": "stdout",
     "output_type": "stream",
     "text": [
      "23/05/07 17:47:14 WARN NativeCodeLoader: Unable to load native-hadoop library for your platform... using builtin-java classes where applicable\n",
      "23/05/07 17:47:15 WARN Utils: Service 'SparkUI' could not bind on port 4040. Attempting port 4041.\n"
     ]
    }
   ],
   "source": [
    "import pandas as pd\n",
    "from pyspark.sql import SparkSession\n",
    "import psutil\n",
    "import time\n",
    "import timeit\n",
    "import seaborn as sns\n",
    "import matplotlib.pyplot as plt\n",
    "\n",
    "spark = SparkSession.builder \\\n",
    "    .appName(\"Resource Utilization\") \\\n",
    "    .getOrCreate()\n",
    "\n",
    "file_paths = [\n",
    "    'splitted/emails_part_1.csv',\n",
    "    'splitted/emails_part_2.csv',\n",
    "    'splitted/emails_part_3.csv',\n",
    "    'splitted/emails_part_4.csv',\n",
    "    'splitted/emails_part_5.csv',\n",
    "    'splitted/emails_part_6.csv'\n",
    "]\n"
   ]
  },
  {
   "cell_type": "code",
   "execution_count": 4,
   "id": "eb5ba27e",
   "metadata": {},
   "outputs": [],
   "source": [
    "def measure_resource_utilization(operation, dataframe):\n",
    "    cpu_percent_initial = psutil.cpu_percent()\n",
    "    memory_initial = psutil.virtual_memory().used\n",
    "\n",
    "    operation(dataframe)\n",
    "\n",
    "    cpu_percent_final = psutil.cpu_percent()\n",
    "    memory_final = psutil.virtual_memory().used\n",
    "\n",
    "    cpu_percent_diff = cpu_percent_final - cpu_percent_initial\n",
    "    memory_diff = memory_final - memory_initial\n",
    "\n",
    "    return cpu_percent_diff, memory_diff\n",
    "\n",
    "agg_function = {\"Date\": \"count\"}\n",
    "groupby_column = \"From\"\n",
    "\n",
    "def operation_pandas(dataframe):\n",
    "    dataframe.groupby(groupby_column).agg(agg_function)\n",
    "\n",
    "def operation_spark(dataframe):\n",
    "    dataframe.groupby(groupby_column).agg(agg_function)\n",
    "\n",
    "def average_time(timings):\n",
    "    return sum(timings) / len(timings)\n",
    "\n",
    "def resource_utilization_average(file_paths, operation, read_func, cycles=10):\n",
    "    cpu_diffs = []\n",
    "    memory_diffs = []\n",
    "\n",
    "    for file_path in file_paths:\n",
    "        cpu_diff_cycle = []\n",
    "        memory_diff_cycle = []\n",
    "\n",
    "        for _ in range(cycles):\n",
    "            df = read_func(file_path)\n",
    "            cpu_diff, memory_diff = measure_resource_utilization(operation, df)\n",
    "            cpu_diff_cycle.append(cpu_diff)\n",
    "            memory_diff_cycle.append(memory_diff)\n",
    "\n",
    "        cpu_diffs.append(average_time(cpu_diff_cycle))\n",
    "        memory_diffs.append(average_time(memory_diff_cycle))\n",
    "\n",
    "    return cpu_diffs, memory_diffs\n",
    "\n",
    "def read_csv_pandas(file_path):\n",
    "    return pd.read_csv(file_path)\n",
    "\n",
    "def read_csv_spark(file_path):\n",
    "    return spark.read.csv(file_path, header=True, inferSchema=True)\n"
   ]
  },
  {
   "cell_type": "code",
   "execution_count": 10,
   "id": "3d57b676",
   "metadata": {},
   "outputs": [
    {
     "name": "stderr",
     "output_type": "stream",
     "text": [
      "                                                                                \r"
     ]
    },
    {
     "name": "stdout",
     "output_type": "stream",
     "text": [
      "(38.2, 0)\n"
     ]
    },
    {
     "name": "stderr",
     "output_type": "stream",
     "text": [
      "\r",
      "[Stage 137:>                                                        (0 + 8) / 9]\r"
     ]
    },
    {
     "name": "stdout",
     "output_type": "stream",
     "text": [
      "(-73.6, 98304)\n"
     ]
    },
    {
     "name": "stderr",
     "output_type": "stream",
     "text": [
      "\r",
      "                                                                                \r"
     ]
    }
   ],
   "source": [
    "dd = file_paths[5]\n",
    "\n",
    "print (measure_resource_utilization(operation_pandas, read_csv_spark(dd)))\n",
    "print (measure_resource_utilization(operation_spark, read_csv_spark(dd)))"
   ]
  },
  {
   "cell_type": "code",
   "execution_count": null,
   "id": "a3044a49",
   "metadata": {},
   "outputs": [],
   "source": [
    "\n",
    "# Pandas\n",
    "cpu_diffs_pandas, memory_diffs_pandas = resource_utilization_average(file_paths, operation_pandas, read_csv_pandas)\n",
    "\n",
    "# Spark\n",
    "cpu_diffs_spark, memory_diffs_spark = resource_utilization_average(file_paths, operation_spark, read_csv_spark)\n",
    "\n",
    "# Plot results - Thes file sizes, are the rows with in the dataset\n",
    "file_sizes = [16278, 32556, 65112, 130225, 260450, 520901]\n",
    "\n",
    "sns.set(style=\"whitegrid\")\n",
    "plt.figure(figsize=(10, 6))\n",
    "\n",
    "# Memory\n",
    "plt.subplot(2, 1, 1)\n",
    "plt.plot(file_sizes, memory_diffs_pandas, label=\"Pandas\")\n",
    "plt.plot(file_sizes, memory_diffs_spark, label=\"Spark\")\n",
    "plt.xlabel(\"Size (rows)\")\n",
    "plt.ylabel(\"Memory (bytes)\")\n",
    "plt.legend()\n",
    "plt.title(\"Memory Usage\")\n",
    "\n",
    "# CPU\n",
    "plt.subplot(2, 1, 2)\n",
    "plt.plot(file_sizes, cpu_diffs_pandas, label=\"Pandas\")\n",
    "plt.plot(file_sizes, cpu_diffs_spark, label=\"Spark\")\n",
    "plt.xlabel(\"Size (rows)\")\n",
    "plt.ylabel(\"CPU (%)\")\n",
    "plt.legend()\n",
    "plt.title(\"CPU Usage\")\n",
    "\n",
    "plt.tight_layout()\n",
    "plt.show()\n"
   ]
  }
 ],
 "metadata": {
  "kernelspec": {
   "display_name": "Python 3 (ipykernel)",
   "language": "python",
   "name": "python3"
  },
  "language_info": {
   "codemirror_mode": {
    "name": "ipython",
    "version": 3
   },
   "file_extension": ".py",
   "mimetype": "text/x-python",
   "name": "python",
   "nbconvert_exporter": "python",
   "pygments_lexer": "ipython3",
   "version": "3.10.9"
  }
 },
 "nbformat": 4,
 "nbformat_minor": 5
}
