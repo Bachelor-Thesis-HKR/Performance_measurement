{
 "cells": [
  {
   "cell_type": "code",
   "execution_count": 5,
   "id": "98438e48",
   "metadata": {},
   "outputs": [],
   "source": [
    "from pyspark.sql import SparkSession\n",
    "# Create a SparkSession\n",
    "spark = SparkSession.builder \\\n",
    "    .appName(\"Transformation and Action Example\") \\\n",
    "    .getOrCreate()\n"
   ]
  },
  {
   "cell_type": "code",
   "execution_count": 6,
   "id": "40dce41b",
   "metadata": {},
   "outputs": [
    {
     "name": "stdout",
     "output_type": "stream",
     "text": [
      "Number of words starting with 's': 3\n"
     ]
    }
   ],
   "source": [
    "# Create a DataFrame\n",
    "df = spark.createDataFrame([\n",
    "    (\"scale\",),\n",
    "    (\"Java\",),\n",
    "    (\"Hadoop\",),\n",
    "    (\"spark\",),\n",
    "    (\"Akka\",),\n",
    "    (\"spark vs Hadoop\",),\n",
    "    (\"pyspark\",),\n",
    "    (\"pyspark and spark\",)\n",
    "], [\"Words\"])\n",
    "\n",
    "# Transformation: Filter the DataFrame to only include rows where the word starts with 's'\n",
    "df_s = df.filter(df.Words.startswith('s'))\n",
    "\n",
    "# Action: Count the number of rows in the filtered DataFrame\n",
    "count_s = df_s.count()\n",
    "\n",
    "print(\"Number of words starting with 's':\", count_s)\n"
   ]
  },
  {
   "cell_type": "code",
   "execution_count": null,
   "id": "b46d5caf",
   "metadata": {},
   "outputs": [],
   "source": []
  }
 ],
 "metadata": {
  "kernelspec": {
   "display_name": "Python 3 (ipykernel)",
   "language": "python",
   "name": "python3"
  },
  "language_info": {
   "codemirror_mode": {
    "name": "ipython",
    "version": 3
   },
   "file_extension": ".py",
   "mimetype": "text/x-python",
   "name": "python",
   "nbconvert_exporter": "python",
   "pygments_lexer": "ipython3",
   "version": "3.10.9"
  }
 },
 "nbformat": 4,
 "nbformat_minor": 5
}
