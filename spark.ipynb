{
 "cells": [
  {
   "cell_type": "code",
   "execution_count": 4,
   "id": "711a990d",
   "metadata": {},
   "outputs": [
    {
     "ename": "SyntaxError",
     "evalue": "invalid syntax (2125240012.py, line 1)",
     "output_type": "error",
     "traceback": [
      "\u001b[0;36m  Cell \u001b[0;32mIn[4], line 1\u001b[0;36m\u001b[0m\n\u001b[0;31m    import\u001b[0m\n\u001b[0m          ^\u001b[0m\n\u001b[0;31mSyntaxError\u001b[0m\u001b[0;31m:\u001b[0m invalid syntax\n"
     ]
    }
   ],
   "source": []
  },
  {
   "cell_type": "code",
   "execution_count": 5,
   "id": "7649f75b",
   "metadata": {},
   "outputs": [],
   "source": [
    "import pyspark\n",
    "import timeit\n",
    "import pandas as pd\n",
    "from pyspark.sql import SparkSession\n",
    "from pyspark.sql.functions import col, sum, mean, count"
   ]
  },
  {
   "cell_type": "code",
   "execution_count": 2,
   "id": "86e5cc50",
   "metadata": {},
   "outputs": [],
   "source": [
    "emails = \"emails.csv\""
   ]
  },
  {
   "cell_type": "code",
   "execution_count": 3,
   "id": "2c6297ce",
   "metadata": {},
   "outputs": [
    {
     "name": "stdout",
     "output_type": "stream",
     "text": [
      "23/04/25 20:57:52 WARN Utils: Your hostname, Merons-MacBook-Air.local resolves to a loopback address: 127.0.0.1; using 192.168.0.106 instead (on interface en0)\n",
      "23/04/25 20:57:52 WARN Utils: Set SPARK_LOCAL_IP if you need to bind to another address\n"
     ]
    },
    {
     "name": "stderr",
     "output_type": "stream",
     "text": [
      "Setting default log level to \"WARN\".\n",
      "To adjust logging level use sc.setLogLevel(newLevel). For SparkR, use setLogLevel(newLevel).\n"
     ]
    },
    {
     "name": "stdout",
     "output_type": "stream",
     "text": [
      "23/04/25 20:57:52 WARN NativeCodeLoader: Unable to load native-hadoop library for your platform... using builtin-java classes where applicable\n"
     ]
    },
    {
     "data": {
      "text/html": [
       "\n",
       "            <div>\n",
       "                <p><b>SparkSession - in-memory</b></p>\n",
       "                \n",
       "        <div>\n",
       "            <p><b>SparkContext</b></p>\n",
       "\n",
       "            <p><a href=\"http://192.168.0.106:4040\">Spark UI</a></p>\n",
       "\n",
       "            <dl>\n",
       "              <dt>Version</dt>\n",
       "                <dd><code>v3.3.2</code></dd>\n",
       "              <dt>Master</dt>\n",
       "                <dd><code>local[*]</code></dd>\n",
       "              <dt>AppName</dt>\n",
       "                <dd><code>emails_session</code></dd>\n",
       "            </dl>\n",
       "        </div>\n",
       "        \n",
       "            </div>\n",
       "        "
      ],
      "text/plain": [
       "<pyspark.sql.session.SparkSession at 0x7fba0878b340>"
      ]
     },
     "execution_count": 3,
     "metadata": {},
     "output_type": "execute_result"
    }
   ],
   "source": [
    "from pyspark.sql import SparkSession\n",
    "spark=SparkSession.builder.appName(\"emails_session\").getOrCreate()\n",
    "spark"
   ]
  },
  {
   "cell_type": "code",
   "execution_count": 17,
   "id": "42f4c4d8",
   "metadata": {},
   "outputs": [],
   "source": [
    "# writing the basic funtions\n"
   ]
  },
  {
   "cell_type": "code",
   "execution_count": 18,
   "id": "a849e4b5",
   "metadata": {},
   "outputs": [],
   "source": [
    "# Read the CSV file\n",
    "\n",
    "def read_csv():\n",
    "    df = spark.read.option('header', 'true').csv(emails, inferSchema=True)\n",
    "    return df"
   ]
  },
  {
   "cell_type": "code",
   "execution_count": 19,
   "id": "3629939d",
   "metadata": {},
   "outputs": [],
   "source": [
    "# Filtering and selection\n",
    "\n",
    "def filter_emails(df):\n",
    "    filtered_df = df.filter(col('subject').like('%Enron%'))\n",
    "    return filtered_df"
   ]
  },
  {
   "cell_type": "code",
   "execution_count": 20,
   "id": "1e7cc29a",
   "metadata": {},
   "outputs": [],
   "source": [
    "# GroupBy and aggregation\n",
    "\n",
    "def groupby_emails(df):\n",
    "    grouped_df = df.groupBy('from').agg(sum('size'), mean('size'), count('size'))\n",
    "    return grouped_df"
   ]
  },
  {
   "cell_type": "code",
   "execution_count": null,
   "id": "6058b011",
   "metadata": {},
   "outputs": [],
   "source": [
    "# Data transformation\n",
    "\n",
    "def transform_emails(df):\n",
    "    transformed_df = df.withColumn('size_kb', col('size') / 1024)\n",
    "    return transformed_df"
   ]
  },
  {
   "cell_type": "code",
   "execution_count": 15,
   "id": "1a0012e4",
   "metadata": {},
   "outputs": [],
   "source": [
    "methods = [read_csv, filter_emails, groupby_emails, transform_emails]\n",
    "method_names = ['Read CSV', 'Filter & Select', 'GroupBy & Aggregation', 'Data Transformation']\n"
   ]
  },
  {
   "cell_type": "code",
   "execution_count": 16,
   "id": "8ea2976e",
   "metadata": {},
   "outputs": [
    {
     "name": "stderr",
     "output_type": "stream",
     "text": [
      "                                                                                \r"
     ]
    },
    {
     "ename": "TypeError",
     "evalue": "read_csv() takes 0 positional arguments but 1 was given",
     "output_type": "error",
     "traceback": [
      "\u001b[0;31m---------------------------------------------------------------------------\u001b[0m",
      "\u001b[0;31mTypeError\u001b[0m                                 Traceback (most recent call last)",
      "Cell \u001b[0;32mIn[16], line 7\u001b[0m\n\u001b[1;32m      5\u001b[0m start_time \u001b[38;5;241m=\u001b[39m timeit\u001b[38;5;241m.\u001b[39mdefault_timer()\n\u001b[1;32m      6\u001b[0m df \u001b[38;5;241m=\u001b[39m read_csv()\n\u001b[0;32m----> 7\u001b[0m \u001b[43mmethod\u001b[49m\u001b[43m(\u001b[49m\u001b[43mdf\u001b[49m\u001b[43m)\u001b[49m\n\u001b[1;32m      8\u001b[0m end_time \u001b[38;5;241m=\u001b[39m timeit\u001b[38;5;241m.\u001b[39mdefault_timer()\n\u001b[1;32m     10\u001b[0m timings\u001b[38;5;241m.\u001b[39mappend(end_time \u001b[38;5;241m-\u001b[39m start_time)\n",
      "\u001b[0;31mTypeError\u001b[0m: read_csv() takes 0 positional arguments but 1 was given"
     ]
    }
   ],
   "source": [
    "for method, method_name in zip(methods, method_names):\n",
    "    timings = []\n",
    "    \n",
    "    for _ in range(5):\n",
    "        start_time = timeit.default_timer()\n",
    "        df = read_csv()\n",
    "        method(df)\n",
    "        end_time = timeit.default_timer()\n",
    "        timings.append(end_time - start_time)\n",
    "    avg_time = sum(timings) / len(timings)\n",
    "    "
   ]
  },
  {
   "cell_type": "code",
   "execution_count": null,
   "id": "17de0cee",
   "metadata": {},
   "outputs": [],
   "source": []
  }
 ],
 "metadata": {
  "kernelspec": {
   "display_name": "Python 3 (ipykernel)",
   "language": "python",
   "name": "python3"
  },
  "language_info": {
   "codemirror_mode": {
    "name": "ipython",
    "version": 3
   },
   "file_extension": ".py",
   "mimetype": "text/x-python",
   "name": "python",
   "nbconvert_exporter": "python",
   "pygments_lexer": "ipython3",
   "version": "3.10.9"
  }
 },
 "nbformat": 4,
 "nbformat_minor": 5
}
